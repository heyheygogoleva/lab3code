{
 "cells": [
  {
   "cell_type": "markdown",
   "id": "7fd7a3c1",
   "metadata": {},
   "source": [
    " # МЕТОДЫ ПРОГРАММИРОВАНИЯ. Лабораторная №3"
   ]
  },
  {
   "cell_type": "markdown",
   "id": "9891ef02",
   "metadata": {},
   "source": [
    "1) Придумать «простую» и «сложную» (более эффективную по скорости и с меньшим числом коллизий) хэш-функции вычисления хэша ключевого поля своего класса.\n",
    "\n",
    "2) Добавить поле со значением хэша в класс, изменить конструкторы и методы соответствующим образом.\n",
    "\n",
    "3) Построить хэш таблицу на основе значения хэша и написать функцию поиска элемента в массиве объектов с использованием хэш-таблицы, реализовать один из методов разрешения коллизий.\n",
    "\n",
    "4) Провести эксперименты с исследованием зависимости времени поиска от размерности массива для обоих хэш-функций, построить графики.\n",
    "\n",
    "5) Сравнить результаты с результатами времени поиска, полученными в предыдущей работе.\n",
    "\n",
    "6) Исследовать зависимость числа коллизий для каждой хэш-функции от размерности массива, построить график."
   ]
  },
  {
   "cell_type": "code",
   "execution_count": 5,
   "id": "b4ffb96e",
   "metadata": {},
   "outputs": [],
   "source": [
    "import pandas as pd"
   ]
  },
  {
   "cell_type": "markdown",
   "id": "6255e27b",
   "metadata": {},
   "source": [
    "## Пункт 1"
   ]
  },
  {
   "cell_type": "code",
   "execution_count": 108,
   "id": "9c4d6871",
   "metadata": {},
   "outputs": [],
   "source": [
    "def hash1(string : str) -> int: \n",
    "    ans = 1\n",
    "    for i in string:\n",
    "        ans *= (ord(i) - 23)\n",
    "    return ans \n",
    "\n",
    "def hash2(string : str) -> int: \n",
    "    ans = 0\n",
    "    for i in string:\n",
    "        ans = 324 * ans + ord(i) - 19\n",
    "    return ans\n"
   ]
  },
  {
   "cell_type": "markdown",
   "id": "a3f2e8f2",
   "metadata": {},
   "source": [
    "## Пункт 2"
   ]
  },
  {
   "cell_type": "code",
   "execution_count": 109,
   "id": "ff82cdf7",
   "metadata": {},
   "outputs": [],
   "source": [
    "class Table:\n",
    "    def __init__(self, raw: pd.core.series.Series):\n",
    "        self.name = raw[0]\n",
    "        self.status = raw[1]\n",
    "        self.number = raw[2]\n",
    "        self.age = raw[3]\n",
    "        self.hash1 = hash1(self.status)\n",
    "        self.hash2 = hash2(self.status)\n",
    "        \n",
    "    def __eq__(self, other): #x = y\n",
    "        if self.name == other.name:\n",
    "            if self.status == other.status:\n",
    "                if self.number == other.number:\n",
    "                    if self.age == other.age:\n",
    "                        return True\n",
    "        return False\n",
    "    \n",
    "    def __ne__(self, other): #x != y\n",
    "        if self == other:\n",
    "            return False\n",
    "        else:\n",
    "            return True\n",
    "        \n",
    "    def __lt__(self, other): #x < y\n",
    "        if self.status < other.status:\n",
    "            return True\n",
    "        elif self.status == other.status:\n",
    "            if self.name < other.name:\n",
    "                return True\n",
    "            elif self.name == other.name:\n",
    "                if self.number < other.number:\n",
    "                    return True\n",
    "        return False\n",
    "    \n",
    "    def __gt__(self, other): #x > y\n",
    "        if self.status > other.status:\n",
    "            return True\n",
    "        elif self.status == other.status:\n",
    "            if self.name > other.name:\n",
    "                return True\n",
    "            elif self.name == other.name:\n",
    "                if self.number > other.number:\n",
    "                    return True\n",
    "        return False\n",
    "    \n",
    "    def __le__(self, other): #x <= y\n",
    "        if (self < other) or (self == other):\n",
    "            return True\n",
    "        else:\n",
    "            return False\n",
    "        \n",
    "    def __ge__(self, other): #x >= y\n",
    "        if (self > other) or (self == other):\n",
    "            return True\n",
    "        else:\n",
    "            return False"
   ]
  },
  {
   "cell_type": "markdown",
   "id": "0b45e4a3",
   "metadata": {},
   "source": [
    "## Пункт 3"
   ]
  },
  {
   "cell_type": "markdown",
   "id": "e5774eab",
   "metadata": {},
   "source": [
    "### Сначала считаем таблицы и сделаем из них списки"
   ]
  },
  {
   "cell_type": "code",
   "execution_count": 110,
   "id": "8a64b844",
   "metadata": {},
   "outputs": [],
   "source": [
    "ns = [100, 500, 1000, 5000, 10000, 50000, 100000, 200000]"
   ]
  },
  {
   "cell_type": "code",
   "execution_count": 111,
   "id": "543059cc",
   "metadata": {},
   "outputs": [],
   "source": [
    "def read_table(n):\n",
    "    tables = []\n",
    "    for i in n:\n",
    "        table_name = '/Users/sofia/Desktop/учеба/3 курс/методы проги/лаба3/table' + str(i) + '.csv'\n",
    "        table_from = pd.read_csv(table_name)\n",
    "        tables.append(table_from)\n",
    "    return tables"
   ]
  },
  {
   "cell_type": "code",
   "execution_count": 112,
   "id": "7ff9023c",
   "metadata": {},
   "outputs": [],
   "source": [
    "tables = read_table(ns)   "
   ]
  },
  {
   "cell_type": "markdown",
   "id": "a45e9041",
   "metadata": {},
   "source": [
    "### Переделываем таблицы в классы"
   ]
  },
  {
   "cell_type": "code",
   "execution_count": 113,
   "id": "908cad7e",
   "metadata": {},
   "outputs": [],
   "source": [
    "def table_to_class(pds):\n",
    "    objects = []\n",
    "    for pd in pds:\n",
    "        x = []\n",
    "        for i in range(len(pd)):\n",
    "            ob = Table(pd.iloc[i])\n",
    "            x.append(ob)\n",
    "        objects.append(x)\n",
    "    return objects"
   ]
  },
  {
   "cell_type": "code",
   "execution_count": 114,
   "id": "8b9d2438",
   "metadata": {},
   "outputs": [],
   "source": [
    "arrs = table_to_class(tables)"
   ]
  },
  {
   "cell_type": "code",
   "execution_count": 139,
   "id": "03298fe3",
   "metadata": {
    "scrolled": true
   },
   "outputs": [],
   "source": [
    "# arrs[0][0].hash1 - так можно обращаться"
   ]
  },
  {
   "cell_type": "code",
   "execution_count": 115,
   "id": "6099e531",
   "metadata": {},
   "outputs": [
    {
     "name": "stdout",
     "output_type": "stream",
     "text": [
      "yigsibqbhu\n",
      "18694312727328000000\n",
      "4023809019041177413909862\n",
      "\n",
      "18694312727328000000\n",
      "4023809019041177413909862\n"
     ]
    }
   ],
   "source": [
    "# проверка:\n",
    "print(arrs[0][0].status)\n",
    "print(arrs[0][0].hash1)\n",
    "print(arrs[0][0].hash2)\n",
    "\n",
    "print()\n",
    "print(hash1('yigsibqbhu'))\n",
    "print(hash2('yigsibqbhu'))"
   ]
  },
  {
   "cell_type": "markdown",
   "id": "7627b63a",
   "metadata": {},
   "source": [
    "## Теперь хэш-таблицы:\n",
    "Построить хэш таблицу на основе значения хэша и написать функцию поиска элемента в массиве объектов с использованием хэш-таблицы, реализовать один из методов разрешения коллизий. </br>\n"
   ]
  },
  {
   "cell_type": "code",
   "execution_count": 116,
   "id": "3dd82f8d",
   "metadata": {},
   "outputs": [],
   "source": [
    "def hash_table1(arr):\n",
    "    collision = 0\n",
    "    hash_table = {}\n",
    "    for element in arr:\n",
    "        hashes = hash_table.keys() \n",
    "        if element.hash1 in hashes:\n",
    "            collision += 1\n",
    "            hash_table[element.hash1].append(element)\n",
    "        else:\n",
    "            new_list = [element]\n",
    "            hash_table[element.hash1] = new_list\n",
    "    return hash_table, collision   \n",
    "            "
   ]
  },
  {
   "cell_type": "code",
   "execution_count": 117,
   "id": "fc9c4240",
   "metadata": {},
   "outputs": [],
   "source": [
    "def hash_table2(arr):\n",
    "    collision = 0\n",
    "    hash_table = {}\n",
    "    for element in arr:\n",
    "        hashes = hash_table.keys() \n",
    "        if element.hash2 in hashes:\n",
    "            collision += 1\n",
    "            hash_table[element.hash2].append(element)\n",
    "        else:\n",
    "            new_list = [element]\n",
    "            hash_table[element.hash2] = new_list\n",
    "    return hash_table, collision "
   ]
  },
  {
   "cell_type": "code",
   "execution_count": 118,
   "id": "b67b37ee",
   "metadata": {},
   "outputs": [],
   "source": [
    "def findWithHashTable1(hash_table, key : str):\n",
    "    hash_key = hash1(key)\n",
    "    \n",
    "    hashes = hash_table.keys()\n",
    "    if hash_key in hashes:\n",
    "        for i in range(len(hash_table[hash_key])):\n",
    "            if hash_table[hash_key][i].status == key:\n",
    "                return hash_table[hash_key][i]   "
   ]
  },
  {
   "cell_type": "code",
   "execution_count": 119,
   "id": "c1673cf7",
   "metadata": {},
   "outputs": [],
   "source": [
    "def findWithHashTable2(hash_table, key : str):\n",
    "    hash_key = hash2(key)\n",
    "    \n",
    "    hashes = hash_table.keys()\n",
    "    if hash_key in hashes:\n",
    "        for i in range(len(hash_table[hash_key])):\n",
    "            if hash_table[hash_key][i].status == key:\n",
    "                return hash_table[hash_key][i]  "
   ]
  },
  {
   "cell_type": "markdown",
   "id": "2f4d6f92",
   "metadata": {},
   "source": [
    "## Пункт 4\n",
    "4) Провести эксперименты с исследованием зависимости времени поиска от размерности массива для обоих хэш-функций, построить графики.\n",
    "\n"
   ]
  },
  {
   "cell_type": "markdown",
   "id": "d3043ce1",
   "metadata": {},
   "source": [
    "### Для начала надо создать хэш-таблицы:"
   ]
  },
  {
   "cell_type": "code",
   "execution_count": 120,
   "id": "ad9aead9",
   "metadata": {},
   "outputs": [],
   "source": [
    "hash_tables1 = [] # list[dict]\n",
    "hash_tables2 = [] # list[dict]\n",
    "collisions1 = [] # list[int]\n",
    "collisions2 = [] # list[int]\n",
    "for arr in arrs:\n",
    "    table1, collision1 = hash_table1(arr)\n",
    "    collisions1.append(collision1)\n",
    "    hash_tables1.append(table1)\n",
    "    \n",
    "    table2, collision2 = hash_table2(arr)\n",
    "    collisions2.append(collision2)\n",
    "    hash_tables2.append(table2)\n",
    "    \n",
    "    "
   ]
  },
  {
   "cell_type": "code",
   "execution_count": 121,
   "id": "e20b41b3",
   "metadata": {},
   "outputs": [],
   "source": [
    "import random"
   ]
  },
  {
   "cell_type": "code",
   "execution_count": 122,
   "id": "d590d1f5",
   "metadata": {
    "scrolled": false
   },
   "outputs": [
    {
     "data": {
      "text/plain": [
       "['uknjssqsaltkf',\n",
       " 'cpbwcfvsbyp',\n",
       " 'lxallfzhj',\n",
       " 'kiqoffdkhraecex',\n",
       " 'psvfvhoai',\n",
       " 'uiowoxgzjxa',\n",
       " 'ffpxxsebb',\n",
       " 'pyjdciqugi']"
      ]
     },
     "execution_count": 122,
     "metadata": {},
     "output_type": "execute_result"
    }
   ],
   "source": [
    "keys = []\n",
    "\n",
    "for i in range(len(arrs)):\n",
    "    key_number = random.randint(0, len(arrs[i]))\n",
    "    keys.append(arrs[i][key_number].status)\n",
    "    \n",
    "keys"
   ]
  },
  {
   "cell_type": "code",
   "execution_count": 123,
   "id": "6a15eb93",
   "metadata": {},
   "outputs": [],
   "source": [
    "from time import time"
   ]
  },
  {
   "cell_type": "code",
   "execution_count": 124,
   "id": "5a441255",
   "metadata": {},
   "outputs": [],
   "source": [
    "time_hash1 = []\n",
    "time_hash2 = []\n",
    "\n",
    "for i in range(len(arrs)):\n",
    "    start_time = time()\n",
    "    findWithHashTable1(hash_tables1[i], keys[i])\n",
    "    result_time = time() - start_time\n",
    "    time_hash1.append(result_time)\n",
    "    \n",
    "    start_time = time()\n",
    "    findWithHashTable2(hash_tables2[i], keys[i])\n",
    "    result_time = time() - start_time\n",
    "    time_hash2.append(result_time)"
   ]
  },
  {
   "cell_type": "markdown",
   "id": "cd807ff9",
   "metadata": {},
   "source": [
    "### Строим график"
   ]
  },
  {
   "cell_type": "code",
   "execution_count": 125,
   "id": "ff227e1a",
   "metadata": {},
   "outputs": [],
   "source": [
    "import matplotlib.pyplot as plt"
   ]
  },
  {
   "cell_type": "code",
   "execution_count": 135,
   "id": "aac15aa5",
   "metadata": {},
   "outputs": [
    {
     "data": {
      "image/png": "[encoded data removed]",
      "text/plain": [
       "<Figure size 432x288 with 1 Axes>"
      ]
     },
     "metadata": {
      "needs_background": "light"
     },
     "output_type": "display_data"
    }
   ],
   "source": [
    "# x - размер - который меняется\n",
    "# y - время - которое мяняется\n",
    "y = ns\n",
    "\n",
    "plt.plot(y, time_hash1, label = 'первая хэш-функция')\n",
    "plt.plot( y, time_hash2,label = 'вторая хэш-функция')\n",
    "plt.title('Время поиска (сек)')\n",
    "plt.xlabel(\"количество объектов\")\n",
    "plt.ylabel(\"время\")\n",
    "plt.legend()\n",
    "plt.show()"
   ]
  },
  {
   "cell_type": "markdown",
   "id": "08495240",
   "metadata": {},
   "source": [
    "## Пункт 5\n",
    "Сравнить результаты с результатами времени поиска, полученными в предыдущей работе."
   ]
  },
  {
   "cell_type": "code",
   "execution_count": 128,
   "id": "938e5c44",
   "metadata": {},
   "outputs": [],
   "source": [
    "# прямой поиск\n",
    "def line_search(lst_f, size, key):\n",
    "    for i in lst_f:\n",
    "        if i.status == key:\n",
    "            return\n",
    "        \n",
    "# бинарный поиск\n",
    "def bin_search(lst_f, start, end, key):\n",
    "    mid = 0\n",
    "    while (1):\n",
    "        mid = (start + end) // 2\n",
    "        if key < lst_f[mid].status:\n",
    "            end = mid - 1\n",
    "        elif key > lst_f[mid].status:\n",
    "            start = mid + 1\n",
    "        else:\n",
    "            return\n",
    "\n",
    "# ассоциативный массив\n",
    "from collections import defaultdict\n",
    "\n",
    "def make_dict(lst_f):\n",
    "    mas_dict = defaultdict(list)\n",
    "    for i in lst_f:\n",
    "        mas_dict[i.status].append(i)\n",
    "    return mas_dict\n",
    "\n",
    "# пирамидальная сортировка\n",
    "import sys\n",
    "sys.setrecursionlimit(1000000)\n",
    "\n",
    "def change_pose(x, i, n): # сравнимает iый элемент с его дочерними \n",
    "    # n - первые n элементов, которые нужны учитывать\n",
    "    i_left = 2 * i + 1 # левый дочерний узел\n",
    "    i_right = 2* i + 2 # правый дочерний узел\n",
    "    i_maxi = i\n",
    "    if i_left <= n and x[i_left] > x[i_maxi]: # !! <=n - входит в нужный нам диапазон\n",
    "        i_maxi = i_left\n",
    "    if i_right <= n and x[i_right] > x[i_maxi]: # !! <=n - входит в первые n  элементов списка\n",
    "        i_maxi = i_right\n",
    "        \n",
    "    if i_maxi == i: # поменялось ли значение\n",
    "        return\n",
    "    else:\n",
    "        x[i_maxi], x[i] = x[i], x[i_maxi] # меняем с одним из дочерних (макс) узлов\n",
    "        change_pose(x, i_maxi, n) # продолжаем процедуру для нового положения узла - для ноого списка\n",
    "        \n",
    "def make_tree(x):\n",
    "    middle = len(x) // 2\n",
    "    for i in reversed(range(0, middle+1)):\n",
    "        change_pose(x, i, len(x)-1)\n",
    "\n",
    "def pyramid_sort(arr):\n",
    "    x = arr.copy()\n",
    "    start = time()\n",
    "    make_tree(x) # строим пирамиду / дерево\n",
    "    for i in reversed(range(0, len(x))): # идем с конца в начало\n",
    "        x[0], x[i] = x[i], x[0]\n",
    "        change_pose(x, 0, i-1)\n",
    "    end = time()\n",
    "    period = end - start\n",
    "    return x, period"
   ]
  },
  {
   "cell_type": "code",
   "execution_count": 129,
   "id": "fc6b3f60",
   "metadata": {},
   "outputs": [],
   "source": [
    "line_search_time = []\n",
    "binary_search_time = []\n",
    "binary_and_sort_time = []\n",
    "dict_time = []\n",
    "\n",
    "for i in range(len(arrs)):\n",
    "    time_start = time()\n",
    "    line_search(arrs[i], len(arrs[i]), keys[i])\n",
    "    time_end = time() - time_start\n",
    "    line_search_time.append(time_end)\n",
    "    \n",
    "    time_start = time()\n",
    "    sorted_array = pyramid_sort(arrs[i])\n",
    "    bin_search(sorted_array[0], 0, len(arrs[i]), keys[i])\n",
    "    time_end = time() - time_start\n",
    "    binary_and_sort_time.append(time_end)\n",
    "    \n",
    "    time_start = time()\n",
    "    bin_search(sorted_array[0], 0, len(arrs[i]), keys[i])\n",
    "    time_end = time() - time_start\n",
    "    binary_search_time.append(time_end)\n",
    "    \n",
    "    multimap = make_dict(arrs[i])\n",
    "    time_start = time()\n",
    "    multimap[keys[i]]\n",
    "    time_end = time() - time_start\n",
    "    dict_time.append(time_end)"
   ]
  },
  {
   "cell_type": "code",
   "execution_count": 140,
   "id": "6e414ed3",
   "metadata": {},
   "outputs": [
    {
     "data": {
      "image/png": "[encoded data removed]",
      "text/plain": [
       "<Figure size 432x288 with 1 Axes>"
      ]
     },
     "metadata": {
      "needs_background": "light"
     },
     "output_type": "display_data"
    }
   ],
   "source": [
    "y = ns\n",
    "\n",
    "\n",
    "plt.plot(y, time_hash1, label = 'первая хэш-функция')\n",
    "plt.plot( y, time_hash2,label = 'вторая хэш-функция')\n",
    "plt.plot( y,line_search_time, label = 'прямой поиск')\n",
    "plt.plot( y,binary_search_time, label = 'бинарный поиск по отсортированному')\n",
    "plt.plot( y, binary_and_sort_time,label = 'бинарный поиск + сортировка')\n",
    "plt.plot(y,dict_time,  label = 'поиск по multimap')\n",
    "plt.title('Время поиска (сек)')\n",
    "plt.xlabel(\"количество объектов\")\n",
    "plt.ylabel(\"время\")\n",
    "plt.legend()\n",
    "plt.show()"
   ]
  },
  {
   "cell_type": "code",
   "execution_count": 141,
   "id": "8caf692d",
   "metadata": {},
   "outputs": [
    {
     "data": {
      "image/png": "[encoded data removed]",
      "text/plain": [
       "<Figure size 432x288 with 1 Axes>"
      ]
     },
     "metadata": {
      "needs_background": "light"
     },
     "output_type": "display_data"
    }
   ],
   "source": [
    "plt.plot(y, time_hash1, label = 'первая хэш-функция')\n",
    "plt.plot( y, time_hash2,label = 'вторая хэш-функция')\n",
    "plt.plot( y,line_search_time, label = 'прямой поиск')\n",
    "plt.plot( y,binary_search_time, label = 'бинарный поиск по отсортированному')\n",
    "# plt.plot( y, binary_and_sort_time,label = 'бинарный поиск + сортировка')\n",
    "plt.plot(y,dict_time,  label = 'поиск по multimap')\n",
    "plt.title('Время поиска (сек)')\n",
    "plt.xlabel(\"количество объектов\")\n",
    "plt.ylabel(\"время\")\n",
    "plt.legend()\n",
    "plt.show()"
   ]
  },
  {
   "cell_type": "code",
   "execution_count": 142,
   "id": "d1b58069",
   "metadata": {},
   "outputs": [
    {
     "data": {
      "image/png": "[encoded data removed]",
      "text/plain": [
       "<Figure size 432x288 with 1 Axes>"
      ]
     },
     "metadata": {
      "needs_background": "light"
     },
     "output_type": "display_data"
    }
   ],
   "source": [
    "plt.plot(y, time_hash1, label = 'первая хэш-функция')\n",
    "plt.plot( y, time_hash2,label = 'вторая хэш-функция')\n",
    "# plt.plot( y,line_search_time, label = 'прямой поиск')\n",
    "plt.plot( y,binary_search_time, label = 'бинарный поиск по отсортированному')\n",
    "# plt.plot( y, binary_and_sort_time,label = 'бинарный поиск + сортировка')\n",
    "plt.plot(y,dict_time,  label = 'поиск по multimap')\n",
    "plt.title('Время поиска (сек)')\n",
    "plt.xlabel(\"количество объектов\")\n",
    "plt.ylabel(\"время\")\n",
    "plt.legend()\n",
    "plt.show()"
   ]
  },
  {
   "cell_type": "markdown",
   "id": "43d4e43c",
   "metadata": {},
   "source": [
    "## Пункт 6\n",
    "Исследовать зависимость числа коллизий для каждой хэш-функции от размерности массива, построить график."
   ]
  },
  {
   "cell_type": "code",
   "execution_count": 133,
   "id": "b3edf890",
   "metadata": {},
   "outputs": [
    {
     "data": {
      "image/png": "[encoded data removed]",
      "text/plain": [
       "<Figure size 432x288 with 1 Axes>"
      ]
     },
     "metadata": {
      "needs_background": "light"
     },
     "output_type": "display_data"
    }
   ],
   "source": [
    "y = ns\n",
    "\n",
    "# plt.plot(collisions1, y, label = 'первая хэш-функция')\n",
    "# plt.plot(collisions2, y, label = 'вторая хэш-функция')\n",
    "plt.plot(collisions1, y, 'o-g', alpha=0.7, label=\"1ая гхэш-функция\", lw=5, mec='black', mew=2, ms=10)\n",
    "plt.plot(collisions2, y, label = 'вторая хэш-функция')\n",
    "plt.title('Количество коллизий')\n",
    "plt.ylabel(\"количество объектов\")\n",
    "plt.xlabel(\"количество коллизий\")\n",
    "plt.legend()\n",
    "plt.show()"
   ]
  },
  {
   "cell_type": "code",
   "execution_count": null,
   "id": "b7658b74",
   "metadata": {},
   "outputs": [],
   "source": []
  }
 ],
 "metadata": {
  "kernelspec": {
   "display_name": "Python 3 (ipykernel)",
   "language": "python",
   "name": "python3"
  },
  "language_info": {
   "codemirror_mode": {
    "name": "ipython",
    "version": 3
   },
   "file_extension": ".py",
   "mimetype": "text/x-python",
   "name": "python",
   "nbconvert_exporter": "python",
   "pygments_lexer": "ipython3",
   "version": "3.9.7"
  }
 },
 "nbformat": 4,
 "nbformat_minor": 5
}
